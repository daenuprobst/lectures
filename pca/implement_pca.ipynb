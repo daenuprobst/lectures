{
 "cells": [
  {
   "cell_type": "markdown",
   "id": "cafca651-552d-4fe0-bab8-2c7223f43f81",
   "metadata": {},
   "source": [
    "# Implementing PCA"
   ]
  },
  {
   "cell_type": "markdown",
   "id": "76e4c33b-7e95-44a1-a730-e2bd6565963e",
   "metadata": {},
   "source": [
    "We're going to implement PCA in about 15 lines of Python code."
   ]
  },
  {
   "cell_type": "markdown",
   "id": "6bb8ee36-46a0-4920-ac6a-8be3bc095faa",
   "metadata": {
    "jp-MarkdownHeadingCollapsed": true
   },
   "source": [
    "## Loading the necessary packages and functions"
   ]
  },
  {
   "cell_type": "code",
   "execution_count": null,
   "id": "883a0b30-ad12-4085-b960-b2a4799769f6",
   "metadata": {},
   "outputs": [],
   "source": [
    "import numpy as np\n",
    "from sklearn.datasets import load_iris\n",
    "import matplotlib.pyplot as plt"
   ]
  },
  {
   "cell_type": "markdown",
   "id": "7e2f742f-f2e0-4296-8113-e9f3b50ec755",
   "metadata": {
    "jp-MarkdownHeadingCollapsed": true
   },
   "source": [
    "## Defining a function to create biplots"
   ]
  },
  {
   "cell_type": "markdown",
   "id": "f4bc3554-5d7e-458f-ba92-edb8eabb8eb5",
   "metadata": {},
   "source": [
    "You don't have to do anything here."
   ]
  },
  {
   "cell_type": "code",
   "execution_count": null,
   "id": "a4782ca5-c4bc-4f8a-ad05-b7333b35704a",
   "metadata": {},
   "outputs": [],
   "source": [
    "def biplot(X_pca, loadings, explained_variance, c = None, labels = None):\n",
    "    x = X_pca[:,0]\n",
    "    y = X_pca[:,1]\n",
    "    n = loadings.shape[0]\n",
    "    \n",
    "    x_scale = 1.0 / (x.max() - x.min())\n",
    "    y_scale = 1.0 / (y.max() - y.min())\n",
    "\n",
    "    plt.scatter(x * x_scale, y * y_scale, c=c)\n",
    "    \n",
    "    for i in range(n):\n",
    "        plt.arrow(0, 0, loadings[i, 0], loadings[i, 1], color=\"r\", alpha=0.5)\n",
    "        if labels is None:\n",
    "            plt.text(loadings[i ,0], loadings[i, 1], \"Var \" + str(i + 1), color=\"k\", ha=\"center\", va=\"center\")\n",
    "        else:\n",
    "            plt.text(loadings[i, 0], loadings[i, 1], labels[i], color=\"k\", ha=\"center\", va=\"center\")\n",
    "    \n",
    "    plt.xlim(-1, 1)\n",
    "    plt.ylim(-1, 1)\n",
    "    plt.xlabel(f\"PC 1 ({explained_variance[0]:.2f})\")\n",
    "    plt.ylabel(f\"PC 2 ({explained_variance[1]:.2f})\")\n",
    "    plt.show()\n"
   ]
  },
  {
   "cell_type": "markdown",
   "id": "adc94015-dbeb-4b45-b306-60c18b8acb78",
   "metadata": {
    "jp-MarkdownHeadingCollapsed": true
   },
   "source": [
    "## Loading the data"
   ]
  },
  {
   "cell_type": "code",
   "execution_count": null,
   "id": "fa080135-b218-4dfb-adaa-96d3ddb5e1e9",
   "metadata": {},
   "outputs": [],
   "source": [
    "data_set = load_iris()\n",
    "X = data_set.data\n",
    "y = data_set.target\n",
    "feature_names = data_set.feature_names"
   ]
  },
  {
   "cell_type": "markdown",
   "id": "007cb748-3375-4381-b4b4-043c05d9171a",
   "metadata": {},
   "source": [
    "## Implementing a function that performs the PCA"
   ]
  },
  {
   "cell_type": "markdown",
   "id": "f497e80e-76f8-40b2-ae07-8b3278a0d08b",
   "metadata": {},
   "source": [
    "Here we're writing the (entire!) code that is required to perform PCA. Of course, numpy will help us a bit along the way. I have also prepared the code and all you have to do is to uncomment the correct lines."
   ]
  },
  {
   "cell_type": "code",
   "execution_count": null,
   "id": "7feaa813-fa0d-4c3a-9b01-7f52cf33af5e",
   "metadata": {},
   "outputs": [],
   "source": [
    "def pca_fit_transform(X, n_components = 2):\n",
    "    \n",
    "    # First, we standardise the data.\n",
    "    # Uncomment the correct line:\n",
    "    \n",
    "    # X = (X - X.mean()) / X.std()\n",
    "    # X = (X - X.mean(axis=0)) / X.std(axis=0)\n",
    "    # X = X - (X.mean() / X.std())\n",
    "    \n",
    "\n",
    "    # Next, we calculate the *average* covariance matrix of X.\n",
    "    # Note: With numpy we can multipy matrices with the @ operator. Example:\n",
    "    # A = B @ C\n",
    "    # Uncomment the correct line:\n",
    "    \n",
    "    # C = X.T @ X / X.shape[0]\n",
    "    # C = X @ X.T / X.shape[0]\n",
    "    # C = X.T @ X\n",
    "    # C = X @ X.T\n",
    "    \n",
    "\n",
    "    # Here, we perform an eigendecomposition. This would be quite tricky to \n",
    "    # implement, so we're just using the eigh function provided by numpy.\n",
    "    # Note: eigenvectors of symmetric matrices are always\n",
    "    # orthogonal (and the eigenvalues are always real).\n",
    "    # Hence, we can use eigh instead of eig.\n",
    "    # Uncomment the correct line:\n",
    "    \n",
    "    # L, V = np.linalg.eigh(C)\n",
    "    # L, V = np.linalg.eigh(X)\n",
    "\n",
    "    \n",
    "    # Next, we sort the eigenvectors by eigenvalues, which\n",
    "    # is in (descending) order of explained variance.\n",
    "    # Uncomment *all* three lines below (just making sure you read this ;-))\n",
    "    \n",
    "    # ids = np.argsort(L)[::-1]\n",
    "    # L = L[ids]\n",
    "    # V = V[:, ids]\n",
    "\n",
    "    \n",
    "    # Here, we calculate the explained variance.\n",
    "    explained_variance = []\n",
    "    L_sum = np.sum(L)\n",
    "    for l_i in L:\n",
    "        explained_variance.append(100 * l_i / L_sum)\n",
    "\n",
    "    \n",
    "    # We only want the n first principal components\n",
    "    V = V[:, :n_components]\n",
    "    L = L[:n_components]\n",
    "\n",
    "    \n",
    "    # Computing the loadings is fairly easy...\n",
    "    loadings = V * np.sqrt(L)\n",
    "\n",
    "    \n",
    "    # Finally, we return the principal components, the loadings, and the\n",
    "    # explained variance.\n",
    "    # Uncomment the correct line:\n",
    "    \n",
    "    # return X, loadings, explained_variance\n",
    "    # return V, loadings, explained_variance\n",
    "    # return X @ V, loadings, explained_variance"
   ]
  },
  {
   "cell_type": "markdown",
   "id": "9d2fc8ec-47d6-49cd-aec5-b24ed9944cd5",
   "metadata": {},
   "source": [
    "## Performing the PCA and plotting it"
   ]
  },
  {
   "cell_type": "code",
   "execution_count": null,
   "id": "46bd9572-698f-4b29-813e-39e27431948d",
   "metadata": {},
   "outputs": [],
   "source": [
    "X_pca, loadings, explained_variance = pca_fit_transform(X)\n",
    "biplot(X_pca, loadings, explained_variance, y, feature_names)"
   ]
  }
 ],
 "metadata": {
  "kernelspec": {
   "display_name": "Python 3 (ipykernel)",
   "language": "python",
   "name": "python3"
  },
  "language_info": {
   "codemirror_mode": {
    "name": "ipython",
    "version": 3
   },
   "file_extension": ".py",
   "mimetype": "text/x-python",
   "name": "python",
   "nbconvert_exporter": "python",
   "pygments_lexer": "ipython3",
   "version": "3.11.11"
  }
 },
 "nbformat": 4,
 "nbformat_minor": 5
}
